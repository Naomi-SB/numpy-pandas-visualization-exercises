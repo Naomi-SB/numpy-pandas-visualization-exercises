{
 "cells": [
  {
   "cell_type": "code",
   "execution_count": null,
   "id": "504dc06a",
   "metadata": {},
   "outputs": [],
   "source": []
  },
  {
   "cell_type": "code",
   "execution_count": 9,
   "id": "db9803b7",
   "metadata": {},
   "outputs": [],
   "source": [
    "import numpy as np"
   ]
  },
  {
   "cell_type": "code",
   "execution_count": 10,
   "id": "b691a0bf",
   "metadata": {},
   "outputs": [],
   "source": [
    "a = np.array([4, 10, 12, 23, -2, -1, 0, 0, 0, -6, 3, -7])"
   ]
  },
  {
   "cell_type": "code",
   "execution_count": 18,
   "id": "dd33c687",
   "metadata": {},
   "outputs": [
    {
     "data": {
      "text/plain": [
       "4"
      ]
     },
     "execution_count": 18,
     "metadata": {},
     "output_type": "execute_result"
    }
   ],
   "source": [
    "#How many negative numbers are there?\n",
    "len(a[a < 0])"
   ]
  },
  {
   "cell_type": "code",
   "execution_count": 19,
   "id": "236fe711",
   "metadata": {},
   "outputs": [
    {
     "data": {
      "text/plain": [
       "5"
      ]
     },
     "execution_count": 19,
     "metadata": {},
     "output_type": "execute_result"
    }
   ],
   "source": [
    "#How many positive numbers are there?\n",
    "len(a[a > 0])"
   ]
  },
  {
   "cell_type": "code",
   "execution_count": 27,
   "id": "fddd968c",
   "metadata": {},
   "outputs": [
    {
     "data": {
      "text/plain": [
       "3"
      ]
     },
     "execution_count": 27,
     "metadata": {},
     "output_type": "execute_result"
    }
   ],
   "source": [
    "#How many even positive numbers are there?\n",
    "na = a[a>0]\n",
    "na\n",
    "na[na % 2 == 0]\n",
    "len(na[na % 2 == 0])"
   ]
  },
  {
   "cell_type": "code",
   "execution_count": 40,
   "id": "6a079b33",
   "metadata": {},
   "outputs": [
    {
     "data": {
      "text/plain": [
       "10"
      ]
     },
     "execution_count": 40,
     "metadata": {},
     "output_type": "execute_result"
    }
   ],
   "source": [
    "#If you were to add 3 to each data point, how many positive numbers would there be?\n",
    "a + 3\n",
    "ap3 = a+3\n",
    "ap3\n",
    "len(ap3[ap3 > 0])"
   ]
  },
  {
   "cell_type": "code",
   "execution_count": 47,
   "id": "30151150",
   "metadata": {},
   "outputs": [
    {
     "data": {
      "text/plain": [
       "144.0243035046516"
      ]
     },
     "execution_count": 47,
     "metadata": {},
     "output_type": "execute_result"
    }
   ],
   "source": [
    "#If you squared each number, what would the new mean\n",
    "new_a = a ** 2\n",
    "new_a.mean()\n"
   ]
  },
  {
   "cell_type": "code",
   "execution_count": 48,
   "id": "21f89444",
   "metadata": {},
   "outputs": [
    {
     "data": {
      "text/plain": [
       "144.0243035046516"
      ]
     },
     "execution_count": 48,
     "metadata": {},
     "output_type": "execute_result"
    }
   ],
   "source": [
    "# new standard deviation after sqaring\n",
    "new_a.std()"
   ]
  },
  {
   "cell_type": "code",
   "execution_count": 53,
   "id": "4d74eb4e",
   "metadata": {},
   "outputs": [
    {
     "ename": "AttributeError",
     "evalue": "'list' object has no attribute 'mean'",
     "output_type": "error",
     "traceback": [
      "\u001b[0;31m---------------------------------------------------------------------------\u001b[0m",
      "\u001b[0;31mAttributeError\u001b[0m                            Traceback (most recent call last)",
      "Input \u001b[0;32mIn [53]\u001b[0m, in \u001b[0;36m<cell line: 4>\u001b[0;34m()\u001b[0m\n\u001b[1;32m      2\u001b[0m a_mean \u001b[38;5;241m=\u001b[39m a\u001b[38;5;241m.\u001b[39mmean()\n\u001b[1;32m      3\u001b[0m center \u001b[38;5;241m=\u001b[39m [a \u001b[38;5;241m-\u001b[39m a_mean]\n\u001b[0;32m----> 4\u001b[0m \u001b[43mcenter\u001b[49m\u001b[38;5;241;43m.\u001b[39;49m\u001b[43mmean\u001b[49m()\n",
      "\u001b[0;31mAttributeError\u001b[0m: 'list' object has no attribute 'mean'"
     ]
    }
   ],
   "source": [
    "#Center the data set.\n",
    "a_mean = a.mean()\n",
    "center = [a - a_mean]\n",
    "center.mean()"
   ]
  },
  {
   "cell_type": "code",
   "execution_count": 7,
   "id": "c0bfd6ff",
   "metadata": {},
   "outputs": [],
   "source": [
    "#Calculate the z-score for each data point."
   ]
  },
  {
   "cell_type": "code",
   "execution_count": 51,
   "id": "b4b21ca6",
   "metadata": {},
   "outputs": [
    {
     "data": {
      "text/plain": [
       "3.0"
      ]
     },
     "execution_count": 51,
     "metadata": {},
     "output_type": "execute_result"
    }
   ],
   "source": []
  },
  {
   "cell_type": "code",
   "execution_count": null,
   "id": "14012af7",
   "metadata": {},
   "outputs": [],
   "source": []
  }
 ],
 "metadata": {
  "kernelspec": {
   "display_name": "Python 3 (ipykernel)",
   "language": "python",
   "name": "python3"
  },
  "language_info": {
   "codemirror_mode": {
    "name": "ipython",
    "version": 3
   },
   "file_extension": ".py",
   "mimetype": "text/x-python",
   "name": "python",
   "nbconvert_exporter": "python",
   "pygments_lexer": "ipython3",
   "version": "3.9.12"
  }
 },
 "nbformat": 4,
 "nbformat_minor": 5
}
